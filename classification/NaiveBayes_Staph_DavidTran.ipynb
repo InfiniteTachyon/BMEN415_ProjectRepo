{
 "cells": [
  {
   "cell_type": "markdown",
   "id": "cb77589a",
   "metadata": {},
   "source": [
    "## Imports"
   ]
  },
  {
   "cell_type": "code",
   "execution_count": 1,
   "id": "05615831",
   "metadata": {},
   "outputs": [],
   "source": [
    "import pandas as pd\n",
    "import numpy as np\n",
    "import seaborn as sns\n",
    "import matplotlib.pyplot as plt\n",
    "\n",
    "from sklearn.feature_selection import SelectKBest, f_classif\n",
    "from imblearn.over_sampling import RandomOverSampler\n",
    "\n",
    "from sklearn.naive_bayes import GaussianNB\n",
    "from sklearn.model_selection import train_test_split\n",
    "from sklearn.metrics import confusion_matrix\n",
    "from sklearn.metrics import accuracy_score"
   ]
  },
  {
   "cell_type": "markdown",
   "id": "a2d3d7e8",
   "metadata": {},
   "source": [
    "## Load Dataset and Clean Data"
   ]
  },
  {
   "cell_type": "code",
   "execution_count": 2,
   "id": "4d322606",
   "metadata": {},
   "outputs": [
    {
     "data": {
      "text/html": [
       "<div>\n",
       "<style scoped>\n",
       "    .dataframe tbody tr th:only-of-type {\n",
       "        vertical-align: middle;\n",
       "    }\n",
       "\n",
       "    .dataframe tbody tr th {\n",
       "        vertical-align: top;\n",
       "    }\n",
       "\n",
       "    .dataframe thead th {\n",
       "        text-align: right;\n",
       "    }\n",
       "</style>\n",
       "<table border=\"1\" class=\"dataframe\">\n",
       "  <thead>\n",
       "    <tr style=\"text-align: right;\">\n",
       "      <th></th>\n",
       "      <th>AGE_GRP</th>\n",
       "      <th>ThirtyDay_Death</th>\n",
       "      <th>Charlson_WIC</th>\n",
       "      <th>Protein 1</th>\n",
       "      <th>Protein 2</th>\n",
       "      <th>Protein 3</th>\n",
       "      <th>Protein 4</th>\n",
       "      <th>Protein 5</th>\n",
       "      <th>Protein 6</th>\n",
       "      <th>Protein 7</th>\n",
       "      <th>...</th>\n",
       "      <th>Protein 2084</th>\n",
       "      <th>Protein 2085</th>\n",
       "      <th>Protein 2086</th>\n",
       "      <th>Protein 2087</th>\n",
       "      <th>Protein 2088</th>\n",
       "      <th>Protein 2089</th>\n",
       "      <th>Protein 2090</th>\n",
       "      <th>Protein 2091</th>\n",
       "      <th>Protein 2092</th>\n",
       "      <th>Protein 2093</th>\n",
       "    </tr>\n",
       "  </thead>\n",
       "  <tbody>\n",
       "    <tr>\n",
       "      <th>1</th>\n",
       "      <td>51-60</td>\n",
       "      <td>False</td>\n",
       "      <td>0.0</td>\n",
       "      <td>0.216912</td>\n",
       "      <td>-0.150886</td>\n",
       "      <td>-0.038081</td>\n",
       "      <td>0.069588</td>\n",
       "      <td>0.336442</td>\n",
       "      <td>-0.104392</td>\n",
       "      <td>0.008110</td>\n",
       "      <td>...</td>\n",
       "      <td>0.0</td>\n",
       "      <td>0.0</td>\n",
       "      <td>0.0</td>\n",
       "      <td>0.0</td>\n",
       "      <td>0.0</td>\n",
       "      <td>0.0</td>\n",
       "      <td>0.0</td>\n",
       "      <td>0.0</td>\n",
       "      <td>0.0</td>\n",
       "      <td>0.0</td>\n",
       "    </tr>\n",
       "    <tr>\n",
       "      <th>2</th>\n",
       "      <td>51-60</td>\n",
       "      <td>False</td>\n",
       "      <td>2.0</td>\n",
       "      <td>0.000000</td>\n",
       "      <td>-0.701414</td>\n",
       "      <td>-0.354478</td>\n",
       "      <td>0.135928</td>\n",
       "      <td>-0.349327</td>\n",
       "      <td>-0.003024</td>\n",
       "      <td>-0.098326</td>\n",
       "      <td>...</td>\n",
       "      <td>0.0</td>\n",
       "      <td>0.0</td>\n",
       "      <td>0.0</td>\n",
       "      <td>0.0</td>\n",
       "      <td>0.0</td>\n",
       "      <td>0.0</td>\n",
       "      <td>0.0</td>\n",
       "      <td>0.0</td>\n",
       "      <td>0.0</td>\n",
       "      <td>0.0</td>\n",
       "    </tr>\n",
       "    <tr>\n",
       "      <th>3</th>\n",
       "      <td>71-80</td>\n",
       "      <td>True</td>\n",
       "      <td>4.0</td>\n",
       "      <td>0.224415</td>\n",
       "      <td>-0.053709</td>\n",
       "      <td>-0.025547</td>\n",
       "      <td>0.061783</td>\n",
       "      <td>-0.046513</td>\n",
       "      <td>-0.105150</td>\n",
       "      <td>0.096859</td>\n",
       "      <td>...</td>\n",
       "      <td>0.0</td>\n",
       "      <td>0.0</td>\n",
       "      <td>0.0</td>\n",
       "      <td>0.0</td>\n",
       "      <td>0.0</td>\n",
       "      <td>0.0</td>\n",
       "      <td>0.0</td>\n",
       "      <td>0.0</td>\n",
       "      <td>0.0</td>\n",
       "      <td>0.0</td>\n",
       "    </tr>\n",
       "    <tr>\n",
       "      <th>4</th>\n",
       "      <td>61-70</td>\n",
       "      <td>False</td>\n",
       "      <td>5.0</td>\n",
       "      <td>-0.080960</td>\n",
       "      <td>-0.480949</td>\n",
       "      <td>-0.345807</td>\n",
       "      <td>0.360044</td>\n",
       "      <td>-0.355281</td>\n",
       "      <td>0.213266</td>\n",
       "      <td>-0.156073</td>\n",
       "      <td>...</td>\n",
       "      <td>0.0</td>\n",
       "      <td>0.0</td>\n",
       "      <td>0.0</td>\n",
       "      <td>0.0</td>\n",
       "      <td>0.0</td>\n",
       "      <td>0.0</td>\n",
       "      <td>0.0</td>\n",
       "      <td>0.0</td>\n",
       "      <td>0.0</td>\n",
       "      <td>0.0</td>\n",
       "    </tr>\n",
       "    <tr>\n",
       "      <th>5</th>\n",
       "      <td>51-60</td>\n",
       "      <td>False</td>\n",
       "      <td>1.0</td>\n",
       "      <td>0.013984</td>\n",
       "      <td>-0.350237</td>\n",
       "      <td>-0.163590</td>\n",
       "      <td>-0.095393</td>\n",
       "      <td>0.161053</td>\n",
       "      <td>-0.008987</td>\n",
       "      <td>-0.123618</td>\n",
       "      <td>...</td>\n",
       "      <td>0.0</td>\n",
       "      <td>0.0</td>\n",
       "      <td>0.0</td>\n",
       "      <td>0.0</td>\n",
       "      <td>0.0</td>\n",
       "      <td>0.0</td>\n",
       "      <td>0.0</td>\n",
       "      <td>0.0</td>\n",
       "      <td>0.0</td>\n",
       "      <td>0.0</td>\n",
       "    </tr>\n",
       "  </tbody>\n",
       "</table>\n",
       "<p>5 rows × 2096 columns</p>\n",
       "</div>"
      ],
      "text/plain": [
       "  AGE_GRP ThirtyDay_Death  Charlson_WIC  Protein 1  Protein 2  Protein 3  \\\n",
       "1   51-60           False           0.0   0.216912  -0.150886  -0.038081   \n",
       "2   51-60           False           2.0   0.000000  -0.701414  -0.354478   \n",
       "3   71-80            True           4.0   0.224415  -0.053709  -0.025547   \n",
       "4   61-70           False           5.0  -0.080960  -0.480949  -0.345807   \n",
       "5   51-60           False           1.0   0.013984  -0.350237  -0.163590   \n",
       "\n",
       "   Protein 4  Protein 5  Protein 6  Protein 7  ...  Protein 2084  \\\n",
       "1   0.069588   0.336442  -0.104392   0.008110  ...           0.0   \n",
       "2   0.135928  -0.349327  -0.003024  -0.098326  ...           0.0   \n",
       "3   0.061783  -0.046513  -0.105150   0.096859  ...           0.0   \n",
       "4   0.360044  -0.355281   0.213266  -0.156073  ...           0.0   \n",
       "5  -0.095393   0.161053  -0.008987  -0.123618  ...           0.0   \n",
       "\n",
       "   Protein 2085  Protein 2086  Protein 2087  Protein 2088  Protein 2089  \\\n",
       "1           0.0           0.0           0.0           0.0           0.0   \n",
       "2           0.0           0.0           0.0           0.0           0.0   \n",
       "3           0.0           0.0           0.0           0.0           0.0   \n",
       "4           0.0           0.0           0.0           0.0           0.0   \n",
       "5           0.0           0.0           0.0           0.0           0.0   \n",
       "\n",
       "   Protein 2090  Protein 2091  Protein 2092  Protein 2093  \n",
       "1           0.0           0.0           0.0           0.0  \n",
       "2           0.0           0.0           0.0           0.0  \n",
       "3           0.0           0.0           0.0           0.0  \n",
       "4           0.0           0.0           0.0           0.0  \n",
       "5           0.0           0.0           0.0           0.0  \n",
       "\n",
       "[5 rows x 2096 columns]"
      ]
     },
     "execution_count": 2,
     "metadata": {},
     "output_type": "execute_result"
    }
   ],
   "source": [
    "df = pd.read_csv('Staphylococcus_aureus_Infection_Data.csv')\n",
    "\n",
    "# Dropping NA Values\n",
    "df.dropna(inplace=True)\n",
    "\n",
    "# Removing Unneeded Data\n",
    "df.drop(['Unnamed: 0', 'SixWeek_Death', 'ThreeMo_Death', 'SixMo_Death', 'NineMo_Death', 'OneYear_Death'], axis=1, inplace=True)\n",
    "\n",
    "df.head()"
   ]
  },
  {
   "cell_type": "code",
   "execution_count": 3,
   "id": "410b9e4f",
   "metadata": {},
   "outputs": [
    {
     "data": {
      "text/html": [
       "<div>\n",
       "<style scoped>\n",
       "    .dataframe tbody tr th:only-of-type {\n",
       "        vertical-align: middle;\n",
       "    }\n",
       "\n",
       "    .dataframe tbody tr th {\n",
       "        vertical-align: top;\n",
       "    }\n",
       "\n",
       "    .dataframe thead th {\n",
       "        text-align: right;\n",
       "    }\n",
       "</style>\n",
       "<table border=\"1\" class=\"dataframe\">\n",
       "  <thead>\n",
       "    <tr style=\"text-align: right;\">\n",
       "      <th></th>\n",
       "      <th>AGE_GRP</th>\n",
       "      <th>ThirtyDay_Death</th>\n",
       "      <th>Charlson_WIC</th>\n",
       "      <th>Protein 1</th>\n",
       "      <th>Protein 2</th>\n",
       "      <th>Protein 3</th>\n",
       "      <th>Protein 4</th>\n",
       "      <th>Protein 5</th>\n",
       "      <th>Protein 6</th>\n",
       "      <th>Protein 7</th>\n",
       "      <th>...</th>\n",
       "      <th>Protein 2084</th>\n",
       "      <th>Protein 2085</th>\n",
       "      <th>Protein 2086</th>\n",
       "      <th>Protein 2087</th>\n",
       "      <th>Protein 2088</th>\n",
       "      <th>Protein 2089</th>\n",
       "      <th>Protein 2090</th>\n",
       "      <th>Protein 2091</th>\n",
       "      <th>Protein 2092</th>\n",
       "      <th>Protein 2093</th>\n",
       "    </tr>\n",
       "  </thead>\n",
       "  <tbody>\n",
       "    <tr>\n",
       "      <th>1</th>\n",
       "      <td>51</td>\n",
       "      <td>False</td>\n",
       "      <td>0.0</td>\n",
       "      <td>0.216912</td>\n",
       "      <td>-0.150886</td>\n",
       "      <td>-0.038081</td>\n",
       "      <td>0.069588</td>\n",
       "      <td>0.336442</td>\n",
       "      <td>-0.104392</td>\n",
       "      <td>0.008110</td>\n",
       "      <td>...</td>\n",
       "      <td>0.0</td>\n",
       "      <td>0.0</td>\n",
       "      <td>0.0</td>\n",
       "      <td>0.0</td>\n",
       "      <td>0.0</td>\n",
       "      <td>0.0</td>\n",
       "      <td>0.0</td>\n",
       "      <td>0.0</td>\n",
       "      <td>0.0</td>\n",
       "      <td>0.0</td>\n",
       "    </tr>\n",
       "    <tr>\n",
       "      <th>2</th>\n",
       "      <td>51</td>\n",
       "      <td>False</td>\n",
       "      <td>2.0</td>\n",
       "      <td>0.000000</td>\n",
       "      <td>-0.701414</td>\n",
       "      <td>-0.354478</td>\n",
       "      <td>0.135928</td>\n",
       "      <td>-0.349327</td>\n",
       "      <td>-0.003024</td>\n",
       "      <td>-0.098326</td>\n",
       "      <td>...</td>\n",
       "      <td>0.0</td>\n",
       "      <td>0.0</td>\n",
       "      <td>0.0</td>\n",
       "      <td>0.0</td>\n",
       "      <td>0.0</td>\n",
       "      <td>0.0</td>\n",
       "      <td>0.0</td>\n",
       "      <td>0.0</td>\n",
       "      <td>0.0</td>\n",
       "      <td>0.0</td>\n",
       "    </tr>\n",
       "    <tr>\n",
       "      <th>3</th>\n",
       "      <td>71</td>\n",
       "      <td>True</td>\n",
       "      <td>4.0</td>\n",
       "      <td>0.224415</td>\n",
       "      <td>-0.053709</td>\n",
       "      <td>-0.025547</td>\n",
       "      <td>0.061783</td>\n",
       "      <td>-0.046513</td>\n",
       "      <td>-0.105150</td>\n",
       "      <td>0.096859</td>\n",
       "      <td>...</td>\n",
       "      <td>0.0</td>\n",
       "      <td>0.0</td>\n",
       "      <td>0.0</td>\n",
       "      <td>0.0</td>\n",
       "      <td>0.0</td>\n",
       "      <td>0.0</td>\n",
       "      <td>0.0</td>\n",
       "      <td>0.0</td>\n",
       "      <td>0.0</td>\n",
       "      <td>0.0</td>\n",
       "    </tr>\n",
       "    <tr>\n",
       "      <th>4</th>\n",
       "      <td>61</td>\n",
       "      <td>False</td>\n",
       "      <td>5.0</td>\n",
       "      <td>-0.080960</td>\n",
       "      <td>-0.480949</td>\n",
       "      <td>-0.345807</td>\n",
       "      <td>0.360044</td>\n",
       "      <td>-0.355281</td>\n",
       "      <td>0.213266</td>\n",
       "      <td>-0.156073</td>\n",
       "      <td>...</td>\n",
       "      <td>0.0</td>\n",
       "      <td>0.0</td>\n",
       "      <td>0.0</td>\n",
       "      <td>0.0</td>\n",
       "      <td>0.0</td>\n",
       "      <td>0.0</td>\n",
       "      <td>0.0</td>\n",
       "      <td>0.0</td>\n",
       "      <td>0.0</td>\n",
       "      <td>0.0</td>\n",
       "    </tr>\n",
       "    <tr>\n",
       "      <th>5</th>\n",
       "      <td>51</td>\n",
       "      <td>False</td>\n",
       "      <td>1.0</td>\n",
       "      <td>0.013984</td>\n",
       "      <td>-0.350237</td>\n",
       "      <td>-0.163590</td>\n",
       "      <td>-0.095393</td>\n",
       "      <td>0.161053</td>\n",
       "      <td>-0.008987</td>\n",
       "      <td>-0.123618</td>\n",
       "      <td>...</td>\n",
       "      <td>0.0</td>\n",
       "      <td>0.0</td>\n",
       "      <td>0.0</td>\n",
       "      <td>0.0</td>\n",
       "      <td>0.0</td>\n",
       "      <td>0.0</td>\n",
       "      <td>0.0</td>\n",
       "      <td>0.0</td>\n",
       "      <td>0.0</td>\n",
       "      <td>0.0</td>\n",
       "    </tr>\n",
       "  </tbody>\n",
       "</table>\n",
       "<p>5 rows × 2096 columns</p>\n",
       "</div>"
      ],
      "text/plain": [
       "   AGE_GRP  ThirtyDay_Death  Charlson_WIC  Protein 1  Protein 2  Protein 3  \\\n",
       "1       51            False           0.0   0.216912  -0.150886  -0.038081   \n",
       "2       51            False           2.0   0.000000  -0.701414  -0.354478   \n",
       "3       71             True           4.0   0.224415  -0.053709  -0.025547   \n",
       "4       61            False           5.0  -0.080960  -0.480949  -0.345807   \n",
       "5       51            False           1.0   0.013984  -0.350237  -0.163590   \n",
       "\n",
       "   Protein 4  Protein 5  Protein 6  Protein 7  ...  Protein 2084  \\\n",
       "1   0.069588   0.336442  -0.104392   0.008110  ...           0.0   \n",
       "2   0.135928  -0.349327  -0.003024  -0.098326  ...           0.0   \n",
       "3   0.061783  -0.046513  -0.105150   0.096859  ...           0.0   \n",
       "4   0.360044  -0.355281   0.213266  -0.156073  ...           0.0   \n",
       "5  -0.095393   0.161053  -0.008987  -0.123618  ...           0.0   \n",
       "\n",
       "   Protein 2085  Protein 2086  Protein 2087  Protein 2088  Protein 2089  \\\n",
       "1           0.0           0.0           0.0           0.0           0.0   \n",
       "2           0.0           0.0           0.0           0.0           0.0   \n",
       "3           0.0           0.0           0.0           0.0           0.0   \n",
       "4           0.0           0.0           0.0           0.0           0.0   \n",
       "5           0.0           0.0           0.0           0.0           0.0   \n",
       "\n",
       "   Protein 2090  Protein 2091  Protein 2092  Protein 2093  \n",
       "1           0.0           0.0           0.0           0.0  \n",
       "2           0.0           0.0           0.0           0.0  \n",
       "3           0.0           0.0           0.0           0.0  \n",
       "4           0.0           0.0           0.0           0.0  \n",
       "5           0.0           0.0           0.0           0.0  \n",
       "\n",
       "[5 rows x 2096 columns]"
      ]
     },
     "execution_count": 3,
     "metadata": {},
     "output_type": "execute_result"
    }
   ],
   "source": [
    "## Coverting AGE_GRP\n",
    "df = df.replace('00-10', 0)\n",
    "df = df.replace('11-20', 11)\n",
    "df = df.replace('21-30', 21)\n",
    "df = df.replace('31-40', 31)\n",
    "df = df.replace('41-50', 41)\n",
    "df = df.replace('51-60', 51)\n",
    "df = df.replace('61-70', 61)\n",
    "df = df.replace('71-80', 71)\n",
    "df = df.replace('80+', 81)\n",
    "\n",
    "df.head()"
   ]
  },
  {
   "cell_type": "markdown",
   "id": "91856624",
   "metadata": {},
   "source": [
    "## Generate Independent & Dependent Variables"
   ]
  },
  {
   "cell_type": "code",
   "execution_count": 4,
   "id": "b93a5992",
   "metadata": {},
   "outputs": [
    {
     "name": "stderr",
     "output_type": "stream",
     "text": [
      "C:\\Users\\david\\anaconda3\\lib\\site-packages\\sklearn\\feature_selection\\_univariate_selection.py:114: UserWarning: Features [2093 2094] are constant.\n",
      "  warnings.warn(\"Features %s are constant.\" % constant_features_idx,\n",
      "C:\\Users\\david\\anaconda3\\lib\\site-packages\\sklearn\\feature_selection\\_univariate_selection.py:116: RuntimeWarning: invalid value encountered in true_divide\n",
      "  f = msb / msw\n"
     ]
    }
   ],
   "source": [
    "X = df.drop('ThirtyDay_Death', axis=1)\n",
    "Y = df['ThirtyDay_Death']\n",
    "\n",
    "\n",
    "\n",
    "# Selecting Best 20 Features\n",
    "Selector = SelectKBest(f_classif, k=20)\n",
    "X = Selector.fit_transform(X, Y)"
   ]
  },
  {
   "cell_type": "markdown",
   "id": "64ba2399",
   "metadata": {},
   "source": [
    "## Generate Train-Test Split (30% Test/70% Train)"
   ]
  },
  {
   "cell_type": "code",
   "execution_count": 5,
   "id": "0c2efcb5",
   "metadata": {},
   "outputs": [],
   "source": [
    "X_train, X_test, Y_train, Y_test = train_test_split(X, Y, test_size = 0.3, random_state = 42)\n",
    "\n",
    "# apply random oversampling to the minority class\n",
    "ros = RandomOverSampler(random_state=42)\n",
    "X_train_resampled, Y_train_resampled = ros.fit_resample(X_train, Y_train)"
   ]
  },
  {
   "cell_type": "markdown",
   "id": "54013fe4",
   "metadata": {},
   "source": [
    "## Model Training and Testing"
   ]
  },
  {
   "cell_type": "code",
   "execution_count": 6,
   "id": "6c24349e",
   "metadata": {},
   "outputs": [
    {
     "data": {
      "text/plain": [
       "0.5908239700374532"
      ]
     },
     "execution_count": 6,
     "metadata": {},
     "output_type": "execute_result"
    }
   ],
   "source": [
    "# Note that since it is extremely difficult to determine whether all features are independent\n",
    "# given the large feature set, that it'll simply be assumed that the data is independent,\n",
    "# and follows a standard distribution. As such, Gaussian Naive Bayes will be used instead. \n",
    "\n",
    "clf = GaussianNB()\n",
    "clf.fit(X_train_resampled, Y_train_resampled)\n",
    "clf.score(X_train_resampled, Y_train_resampled)\n"
   ]
  },
  {
   "cell_type": "code",
   "execution_count": 7,
   "id": "c8808826",
   "metadata": {},
   "outputs": [],
   "source": [
    "Y_prediction = clf.predict(X_test)\n",
    "Y_pred_train = clf.predict(X_train)"
   ]
  },
  {
   "cell_type": "code",
   "execution_count": 8,
   "id": "391a1e67",
   "metadata": {},
   "outputs": [
    {
     "data": {
      "text/plain": [
       "0.7586295723853683"
      ]
     },
     "execution_count": 8,
     "metadata": {},
     "output_type": "execute_result"
    }
   ],
   "source": [
    "# Training Accuracy\n",
    "accuracy_score(Y_train, Y_pred_train)"
   ]
  },
  {
   "cell_type": "code",
   "execution_count": 9,
   "id": "4975561b",
   "metadata": {},
   "outputs": [
    {
     "data": {
      "text/plain": [
       "<AxesSubplot:>"
      ]
     },
     "execution_count": 9,
     "metadata": {},
     "output_type": "execute_result"
    },
    {
     "data": {
      "image/png": "[encoded data removed]",
      "text/plain": [
       "<Figure size 432x288 with 2 Axes>"
      ]
     },
     "metadata": {
      "needs_background": "light"
     },
     "output_type": "display_data"
    }
   ],
   "source": [
    "conf_matrix = confusion_matrix(Y_test, Y_prediction)\n",
    "sns.heatmap(conf_matrix, annot=True)"
   ]
  },
  {
   "cell_type": "code",
   "execution_count": 10,
   "id": "a76fc228",
   "metadata": {},
   "outputs": [
    {
     "data": {
      "text/plain": [
       "0.766966966966967"
      ]
     },
     "execution_count": 10,
     "metadata": {},
     "output_type": "execute_result"
    }
   ],
   "source": [
    "# Testing Accuracy\n",
    "accuracy_score(Y_test, Y_prediction)"
   ]
  },
  {
   "cell_type": "code",
   "execution_count": null,
   "id": "1a0d131e",
   "metadata": {},
   "outputs": [],
   "source": []
  }
 ],
 "metadata": {
  "kernelspec": {
   "display_name": "Python 3",
   "language": "python",
   "name": "python3"
  },
  "language_info": {
   "codemirror_mode": {
    "name": "ipython",
    "version": 3
   },
   "file_extension": ".py",
   "mimetype": "text/x-python",
   "name": "python",
   "nbconvert_exporter": "python",
   "pygments_lexer": "ipython3",
   "version": "3.8.8"
  }
 },
 "nbformat": 4,
 "nbformat_minor": 5
}
