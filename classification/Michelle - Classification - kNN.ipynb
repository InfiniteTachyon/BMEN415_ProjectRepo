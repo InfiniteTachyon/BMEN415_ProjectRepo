{
 "cells": [
  {
   "cell_type": "code",
   "execution_count": 1,
   "id": "2943851f",
   "metadata": {},
   "outputs": [],
   "source": [
    "import pandas as pd  # Importing Pandas library\n",
    "import seaborn as sns  # Importing Seaborn library\n",
    "from sklearn.neighbors import KNeighborsClassifier"
   ]
  },
  {
   "cell_type": "code",
   "execution_count": 2,
   "id": "bb001c4c",
   "metadata": {},
   "outputs": [],
   "source": [
    "data = pd.read_csv(\"Staphylococcus_aureus_Infection_Data.csv\")\n",
    "#predict 30 day death"
   ]
  },
  {
   "cell_type": "code",
   "execution_count": 3,
   "id": "6c24c036",
   "metadata": {},
   "outputs": [],
   "source": [
    "#Dropping blank data\n",
    "data = data.dropna()"
   ]
  },
  {
   "cell_type": "code",
   "execution_count": 4,
   "id": "827e055b",
   "metadata": {},
   "outputs": [],
   "source": [
    "#converting AGE_GRP column\n",
    "AGE_GRP = data.iloc[:,1]\n",
    "age_grp = []\n",
    "for i in AGE_GRP:\n",
    "    if i == \"00-10\":\n",
    "        age_grp.append(0)\n",
    "    elif i == \"11-20\":\n",
    "        age_grp.append(10)\n",
    "    elif i == \"21-30\":\n",
    "        age_grp.append(20)\n",
    "    elif i == \"31-40\":\n",
    "        age_grp.append(30)\n",
    "    elif i == \"41-50\":\n",
    "        age_grp.append(40)\n",
    "    elif i == \"51-60\":\n",
    "        age_grp.append(50)\n",
    "    elif i == \"61-70\":\n",
    "        age_grp.append(60)\n",
    "    elif i == \"71-80\":\n",
    "        age_grp.append(70)\n",
    "    else:\n",
    "        age_grp.append(80)\n",
    "        \n",
    "data.iloc[:,1] = age_grp"
   ]
  },
  {
   "cell_type": "code",
   "execution_count": 5,
   "id": "5f7b7b50",
   "metadata": {
    "scrolled": false
   },
   "outputs": [
    {
     "name": "stderr",
     "output_type": "stream",
     "text": [
      "C:\\Users\\miche\\anaconda3\\lib\\site-packages\\sklearn\\feature_selection\\_univariate_selection.py:112: UserWarning: Features [2093 2094] are constant.\n",
      "  warnings.warn(\"Features %s are constant.\" % constant_features_idx, UserWarning)\n",
      "C:\\Users\\miche\\anaconda3\\lib\\site-packages\\sklearn\\feature_selection\\_univariate_selection.py:113: RuntimeWarning: invalid value encountered in divide\n",
      "  f = msb / msw\n"
     ]
    }
   ],
   "source": [
    "x = data.drop([\"ThirtyDay_Death\", \"Unnamed: 0\", \"SixWeek_Death\", \"ThreeMo_Death\", \"SixMo_Death\", \"NineMo_Death\", \"OneYear_Death\"], axis=1)\n",
    "y = data[\"ThirtyDay_Death\"].astype(object).astype(int)\n",
    "\n",
    "#data.iloc[:,2] = y\n",
    "\n",
    "#selecting the best 20 features\n",
    "from sklearn.feature_selection import SelectKBest, f_classif\n",
    "selector = SelectKBest(f_classif, k=20)\n",
    "x = selector.fit_transform(x, y) #new x with the best 20 features "
   ]
  },
  {
   "cell_type": "code",
   "execution_count": 6,
   "id": "3f1f66c6",
   "metadata": {},
   "outputs": [],
   "source": [
    "from sklearn.model_selection import train_test_split \n",
    "\n",
    "x_train, x_test, y_train, y_test = train_test_split(x, y, test_size=0.3, random_state=42)"
   ]
  },
  {
   "cell_type": "code",
   "execution_count": 7,
   "id": "b830bc2c",
   "metadata": {},
   "outputs": [],
   "source": [
    "from imblearn.over_sampling import RandomOverSampler\n",
    "\n",
    "# apply random oversampling to the minority class\n",
    "ros = RandomOverSampler(random_state=42)\n",
    "x_train_resampled, y_train_resampled = ros.fit_resample(x_train, y_train)"
   ]
  },
  {
   "cell_type": "code",
   "execution_count": 8,
   "id": "a157a4d2",
   "metadata": {},
   "outputs": [
    {
     "data": {
      "text/plain": [
       "KNeighborsClassifier(n_neighbors=55)"
      ]
     },
     "execution_count": 8,
     "metadata": {},
     "output_type": "execute_result"
    }
   ],
   "source": [
    "# Create KNN model with k=11\n",
    "knnmodel = KNeighborsClassifier(n_neighbors=55)\n",
    "\n",
    "#fit model\n",
    "knnmodel.fit(x_train_resampled, y_train_resampled)"
   ]
  },
  {
   "cell_type": "code",
   "execution_count": 9,
   "id": "0ca0d444",
   "metadata": {},
   "outputs": [
    {
     "name": "stderr",
     "output_type": "stream",
     "text": [
      "C:\\Users\\miche\\anaconda3\\lib\\site-packages\\sklearn\\neighbors\\_classification.py:228: FutureWarning: Unlike other reduction functions (e.g. `skew`, `kurtosis`), the default behavior of `mode` typically preserves the axis it acts along. In SciPy 1.11.0, this behavior will change: the default value of `keepdims` will become False, the `axis` over which the statistic is taken will be eliminated, and the value None will no longer be accepted. Set `keepdims` to True or False to avoid this warning.\n",
      "  mode, _ = stats.mode(_y[neigh_ind, k], axis=1)\n",
      "C:\\Users\\miche\\anaconda3\\lib\\site-packages\\sklearn\\neighbors\\_classification.py:228: FutureWarning: Unlike other reduction functions (e.g. `skew`, `kurtosis`), the default behavior of `mode` typically preserves the axis it acts along. In SciPy 1.11.0, this behavior will change: the default value of `keepdims` will become False, the `axis` over which the statistic is taken will be eliminated, and the value None will no longer be accepted. Set `keepdims` to True or False to avoid this warning.\n",
      "  mode, _ = stats.mode(_y[neigh_ind, k], axis=1)\n"
     ]
    }
   ],
   "source": [
    "#making a prediction\n",
    "y_pred_train = knnmodel.predict(x_train)\n",
    "y_pred_test = knnmodel.predict(x_test)\n"
   ]
  },
  {
   "cell_type": "code",
   "execution_count": 10,
   "id": "801e378d",
   "metadata": {},
   "outputs": [
    {
     "name": "stdout",
     "output_type": "stream",
     "text": [
      "0.6926841834106131\n"
     ]
    },
    {
     "data": {
      "text/plain": [
       "<AxesSubplot:>"
      ]
     },
     "execution_count": 10,
     "metadata": {},
     "output_type": "execute_result"
    },
    {
     "data": {
      "image/png": "[encoded data removed]",
      "text/plain": [
       "<Figure size 640x480 with 2 Axes>"
      ]
     },
     "metadata": {},
     "output_type": "display_data"
    }
   ],
   "source": [
    "#Testing Accuracy of training data\n",
    "\n",
    "from sklearn.metrics import confusion_matrix\n",
    "from sklearn.metrics import accuracy_score\n",
    "\n",
    "cm = confusion_matrix(y_train, y_pred_train)\n",
    "\n",
    "print(accuracy_score(y_train, y_pred_train))\n",
    "\n",
    "sns.heatmap(cm, annot=True)"
   ]
  },
  {
   "cell_type": "code",
   "execution_count": 11,
   "id": "9ca1e9ca",
   "metadata": {},
   "outputs": [
    {
     "name": "stdout",
     "output_type": "stream",
     "text": [
      "0.6720720720720721\n"
     ]
    },
    {
     "data": {
      "text/plain": [
       "<AxesSubplot:>"
      ]
     },
     "execution_count": 11,
     "metadata": {},
     "output_type": "execute_result"
    },
    {
     "data": {
      "image/png": "[encoded data removed]",
      "text/plain": [
       "<Figure size 640x480 with 2 Axes>"
      ]
     },
     "metadata": {},
     "output_type": "display_data"
    }
   ],
   "source": [
    "#Testing Accuracy\n",
    "\n",
    "from sklearn.metrics import confusion_matrix\n",
    "from sklearn.metrics import accuracy_score\n",
    "\n",
    "cm = confusion_matrix(y_test, y_pred_test)\n",
    "\n",
    "print(accuracy_score(y_test, y_pred_test))\n",
    "\n",
    "sns.heatmap(cm, annot=True)"
   ]
  },
  {
   "cell_type": "code",
   "execution_count": 12,
   "id": "e06e3ab2",
   "metadata": {},
   "outputs": [
    {
     "name": "stdout",
     "output_type": "stream",
     "text": [
      "              precision    recall  f1-score   support\n",
      "\n",
      "           0       0.91      0.67      0.77      1378\n",
      "           1       0.30      0.67      0.41       287\n",
      "\n",
      "    accuracy                           0.67      1665\n",
      "   macro avg       0.60      0.67      0.59      1665\n",
      "weighted avg       0.80      0.67      0.71      1665\n",
      "\n",
      "Sensitivity: 0.6724738675958188\n",
      "Specificity: 0.6719883889695211\n"
     ]
    }
   ],
   "source": [
    "from sklearn.metrics import confusion_matrix, classification_report\n",
    "\n",
    "# Extract the true positives, true negatives, false positives, and false negatives\n",
    "tn, fp, fn, tp = cm.ravel()\n",
    "\n",
    "# Compute the sensitivity and specificity\n",
    "sensitivity = tp / (tp + fn)\n",
    "specificity = tn / (tn + fp)\n",
    "\n",
    "# Print the classification report\n",
    "print(classification_report(y_test, y_pred_test))\n",
    "\n",
    "# Print the sensitivity and specificity\n",
    "print(\"Sensitivity:\", sensitivity)\n",
    "print(\"Specificity:\", specificity)"
   ]
  }
 ],
 "metadata": {
  "kernelspec": {
   "display_name": "Python 3 (ipykernel)",
   "language": "python",
   "name": "python3"
  },
  "language_info": {
   "codemirror_mode": {
    "name": "ipython",
    "version": 3
   },
   "file_extension": ".py",
   "mimetype": "text/x-python",
   "name": "python",
   "nbconvert_exporter": "python",
   "pygments_lexer": "ipython3",
   "version": "3.9.13"
  }
 },
 "nbformat": 4,
 "nbformat_minor": 5
}
