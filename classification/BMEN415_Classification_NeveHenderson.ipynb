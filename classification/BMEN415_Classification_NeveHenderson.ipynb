{
 "cells": [
  {
   "cell_type": "code",
   "execution_count": 1,
   "id": "a2ef909d",
   "metadata": {},
   "outputs": [],
   "source": [
    "#Import libraries\n",
    "import pandas as pd\n",
    "import numpy as np\n",
    "from sklearn.linear_model import LogisticRegression\n",
    "from sklearn.svm import SVC\n",
    "from sklearn.tree import DecisionTreeClassifier\n",
    "from sklearn.model_selection import train_test_split\n",
    "import seaborn as sns\n",
    "from sklearn.metrics import confusion_matrix\n",
    "import matplotlib.pyplot as plt\n",
    "from sklearn.preprocessing import StandardScaler\n",
    "from imblearn.over_sampling import RandomOverSampler\n",
    "from sklearn.feature_selection import SelectKBest, f_classif\n",
    "from sklearn.metrics import accuracy_score"
   ]
  },
  {
   "cell_type": "code",
   "execution_count": 2,
   "id": "05a4e804",
   "metadata": {},
   "outputs": [],
   "source": [
    "#Obtain data\n",
    "data = pd.read_csv('/Users/neveh/Desktop/Staphylococcus_aureus_Infection_Data_original.csv')\n",
    "\n",
    "#dropping the empty values\n",
    "data = data.dropna() \n",
    "\n",
    "#dropping the other targets\n",
    "data = data.drop(['Unnamed: 0', 'SixWeek_Death', 'ThreeMo_Death', 'SixMo_Death','NineMo_Death', 'OneYear_Death' ], axis=1)\n",
    "\n",
    "#replacing the age group catergories\n",
    "data = data.replace('00-10', 0)\n",
    "data = data.replace('11-20', 1)\n",
    "data = data.replace('21-30', 2)\n",
    "data = data.replace('31-40', 3)\n",
    "data = data.replace('41-50', 4)\n",
    "data = data.replace('51-60', 5)\n",
    "data = data.replace('61-70', 6)\n",
    "data = data.replace('71-80', 7)\n",
    "data = data.replace('80+', 8)"
   ]
  },
  {
   "cell_type": "code",
   "execution_count": 3,
   "id": "ea28280b",
   "metadata": {},
   "outputs": [],
   "source": [
    "#Split features and target\n",
    "X = data.drop('ThirtyDay_Death', axis=1)\n",
    "y = data['ThirtyDay_Death']"
   ]
  },
  {
   "cell_type": "code",
   "execution_count": 4,
   "id": "4132e74c",
   "metadata": {},
   "outputs": [
    {
     "name": "stdout",
     "output_type": "stream",
     "text": [
      "Percentage of deaths: 17.4\n"
     ]
    }
   ],
   "source": [
    "print(f'Percentage of deaths:', round(sum(y)/len(y)*100, 2))"
   ]
  },
  {
   "cell_type": "code",
   "execution_count": 5,
   "id": "6723a317",
   "metadata": {},
   "outputs": [],
   "source": [
    "#Resample minority class, deaths\n",
    "ros = RandomOverSampler(random_state=42)\n",
    "\n",
    "#Fit and transform X_train and y_train\n",
    "X_resampled, y_resampled = ros.fit_resample(X, y)\n",
    "\n",
    "#Add the oversampled data with the original data\n",
    "X_new = pd.concat([X, X_resampled])\n",
    "y_new = pd.concat([y, y_resampled])"
   ]
  },
  {
   "cell_type": "code",
   "execution_count": 6,
   "id": "f30dec3a",
   "metadata": {},
   "outputs": [
    {
     "name": "stderr",
     "output_type": "stream",
     "text": [
      "C:\\Users\\neveh\\anaconda3\\lib\\site-packages\\sklearn\\feature_selection\\_univariate_selection.py:112: UserWarning: Features [2093 2094] are constant.\n",
      "  warnings.warn(\"Features %s are constant.\" % constant_features_idx, UserWarning)\n",
      "C:\\Users\\neveh\\anaconda3\\lib\\site-packages\\sklearn\\feature_selection\\_univariate_selection.py:113: RuntimeWarning: invalid value encountered in true_divide\n",
      "  f = msb / msw\n"
     ]
    }
   ],
   "source": [
    "#Selecting the best features\n",
    "selector = SelectKBest(f_classif, k=20)\n",
    "X = selector.fit_transform(X, y) #new X with the best features "
   ]
  },
  {
   "cell_type": "code",
   "execution_count": 7,
   "id": "7fbe7e98",
   "metadata": {},
   "outputs": [],
   "source": [
    "#Split the data into training and testing\n",
    "X_train, X_test, y_train, y_test = train_test_split(X_new, y_new, test_size=0.3, random_state=42)"
   ]
  },
  {
   "cell_type": "code",
   "execution_count": 8,
   "id": "9a1a4762",
   "metadata": {},
   "outputs": [],
   "source": [
    "#scaling the data\n",
    "scaler = StandardScaler()\n",
    "X_train_scaled = scaler.fit_transform(X_train)\n",
    "X_test_scaled = scaler.transform(X_test)"
   ]
  },
  {
   "cell_type": "markdown",
   "id": "35f43380",
   "metadata": {},
   "source": [
    "MODEL #1"
   ]
  },
  {
   "cell_type": "code",
   "execution_count": 9,
   "id": "b4ffffcd",
   "metadata": {},
   "outputs": [],
   "source": [
    "#Define model and train on selected features\n",
    "log_reg = LogisticRegression(penalty='l1', solver='liblinear')\n",
    "log_reg.fit(X_train_scaled, y_train)\n",
    "\n",
    "y_pred_test_pen = log_reg.predict(X_test_scaled)\n",
    "y_pred_train_pen = log_reg.predict(X_train_scaled)"
   ]
  },
  {
   "cell_type": "code",
   "execution_count": 10,
   "id": "184d4f3f",
   "metadata": {},
   "outputs": [],
   "source": [
    "#Generate confusion matrix\n",
    "cm_pen = confusion_matrix(y_test, y_pred_test_pen)"
   ]
  },
  {
   "cell_type": "code",
   "execution_count": 11,
   "id": "20c63f39",
   "metadata": {},
   "outputs": [
    {
     "data": {
      "image/png": "[encoded data removed]",
      "text/plain": [
       "<Figure size 432x288 with 2 Axes>"
      ]
     },
     "metadata": {
      "needs_background": "light"
     },
     "output_type": "display_data"
    }
   ],
   "source": [
    "#Show confusion matrix\n",
    "sns.heatmap(cm_pen, annot=True)\n",
    "plt.title('Confusion matrix')\n",
    "plt.xlabel('Predicted')\n",
    "plt.ylabel('True')\n",
    "plt.show()"
   ]
  },
  {
   "cell_type": "code",
   "execution_count": 12,
   "id": "cd8d75fb",
   "metadata": {},
   "outputs": [
    {
     "name": "stdout",
     "output_type": "stream",
     "text": [
      "Testing accuracy for SVM model: 0.9465337562301767\n",
      "Training accuracy for SVM model: 0.9983490336991356\n"
     ]
    }
   ],
   "source": [
    "#Calculate accuracy\n",
    "accuracy_test_pen = accuracy_score(y_test, y_pred_test_pen)\n",
    "accuracy_train_pen = accuracy_score(y_train, y_pred_train_pen)\n",
    "print('Testing accuracy for SVM model:',accuracy_test_pen)\n",
    "print('Training accuracy for SVM model:',accuracy_train_pen)"
   ]
  },
  {
   "cell_type": "markdown",
   "id": "08f6a2e7",
   "metadata": {},
   "source": [
    "MODEL #2"
   ]
  },
  {
   "cell_type": "code",
   "execution_count": 13,
   "id": "2aa94127",
   "metadata": {},
   "outputs": [],
   "source": [
    "#Define model\n",
    "svm = SVC(kernel='rbf')\n",
    "svm.fit(X_train_scaled, y_train) \n",
    "\n",
    "y_pred_test_svm = svm.predict(X_test_scaled)\n",
    "y_pred_train_svm = svm.predict(X_train_scaled)"
   ]
  },
  {
   "cell_type": "code",
   "execution_count": 14,
   "id": "00358cb6",
   "metadata": {},
   "outputs": [],
   "source": [
    "#Generate comfusion matrix\n",
    "cm_svm = confusion_matrix(y_test, y_pred_test_svm)"
   ]
  },
  {
   "cell_type": "code",
   "execution_count": 15,
   "id": "ff577811",
   "metadata": {},
   "outputs": [
    {
     "data": {
      "image/png": "[encoded data removed]",
      "text/plain": [
       "<Figure size 432x288 with 2 Axes>"
      ]
     },
     "metadata": {
      "needs_background": "light"
     },
     "output_type": "display_data"
    }
   ],
   "source": [
    "#Show confusion matrix\n",
    "sns.heatmap(cm_svm, annot=True)\n",
    "plt.title('Confusion matrix')\n",
    "plt.xlabel('Predicted')\n",
    "plt.ylabel('True')\n",
    "plt.show()"
   ]
  },
  {
   "cell_type": "code",
   "execution_count": 16,
   "id": "26ab8b4e",
   "metadata": {},
   "outputs": [
    {
     "name": "stdout",
     "output_type": "stream",
     "text": [
      "Testing accuracy for SVM model: 0.9780244676030811\n",
      "Training accuracy for SVM model: 0.9948528697678936\n"
     ]
    }
   ],
   "source": [
    "#Calculate accuracy\n",
    "accuracy_test_svm = accuracy_score(y_test, y_pred_test_svm)\n",
    "accuracy_train_svm = accuracy_score(y_train, y_pred_train_svm)\n",
    "print('Testing accuracy for SVM model:',accuracy_test_svm)\n",
    "print('Training accuracy for SVM model:',accuracy_train_svm)"
   ]
  },
  {
   "cell_type": "markdown",
   "id": "9de069ee",
   "metadata": {},
   "source": [
    "MODEL #3"
   ]
  },
  {
   "cell_type": "code",
   "execution_count": 17,
   "id": "f209cd46",
   "metadata": {},
   "outputs": [],
   "source": [
    "#Define model\n",
    "clf = DecisionTreeClassifier(random_state=42)\n",
    "clf.fit(X_train_scaled, y_train)\n",
    "y_pred_tree = clf.predict(X_test_scaled)\n",
    "\n",
    "y_pred_test_tree = clf.predict(X_test_scaled)\n",
    "y_pred_train_tree = clf.predict(X_train_scaled)"
   ]
  },
  {
   "cell_type": "code",
   "execution_count": 18,
   "id": "846deb96",
   "metadata": {},
   "outputs": [],
   "source": [
    "#Generate confusion matrix\n",
    "cm_tree = confusion_matrix(y_test, y_pred_test_tree)"
   ]
  },
  {
   "cell_type": "code",
   "execution_count": 19,
   "id": "0609300a",
   "metadata": {},
   "outputs": [
    {
     "data": {
      "image/png": "[encoded data removed]",
      "text/plain": [
       "<Figure size 432x288 with 2 Axes>"
      ]
     },
     "metadata": {
      "needs_background": "light"
     },
     "output_type": "display_data"
    }
   ],
   "source": [
    "#Show confusion matrix\n",
    "sns.heatmap(cm_tree, annot=True)\n",
    "plt.title('Confusion matrix for Rule Based Tree Model')\n",
    "plt.xlabel('Predicted')\n",
    "plt.ylabel('True')\n",
    "plt.show()"
   ]
  },
  {
   "cell_type": "code",
   "execution_count": 20,
   "id": "ffaa9302",
   "metadata": {},
   "outputs": [
    {
     "name": "stdout",
     "output_type": "stream",
     "text": [
      "Testing accuracy for Penalized model: 0.9687358405074762\n",
      "Training accuracy for Penalized model: 1.0\n"
     ]
    }
   ],
   "source": [
    "#Calculate accuracy\n",
    "accuracy_test_tree = accuracy_score(y_test, y_pred_test_tree)\n",
    "accuracy_train_tree = accuracy_score(y_train, y_pred_train_tree)\n",
    "print('Testing accuracy for Penalized model:',accuracy_test_tree)\n",
    "print('Training accuracy for Penalized model:',accuracy_train_tree)"
   ]
  },
  {
   "cell_type": "code",
   "execution_count": null,
   "id": "0d8d3a99",
   "metadata": {},
   "outputs": [],
   "source": []
  }
 ],
 "metadata": {
  "kernelspec": {
   "display_name": "Python 3",
   "language": "python",
   "name": "python3"
  },
  "language_info": {
   "codemirror_mode": {
    "name": "ipython",
    "version": 3
   },
   "file_extension": ".py",
   "mimetype": "text/x-python",
   "name": "python",
   "nbconvert_exporter": "python",
   "pygments_lexer": "ipython3",
   "version": "3.8.8"
  }
 },
 "nbformat": 4,
 "nbformat_minor": 5
}
