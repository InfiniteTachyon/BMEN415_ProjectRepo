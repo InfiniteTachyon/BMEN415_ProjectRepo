{
 "cells": [
  {
   "cell_type": "code",
   "execution_count": 1,
   "id": "2943851f",
   "metadata": {},
   "outputs": [],
   "source": [
    "import pandas as pd  # Importing Pandas library\n",
    "import seaborn as sns  # Importing Seaborn library"
   ]
  },
  {
   "cell_type": "code",
   "execution_count": 2,
   "id": "bb001c4c",
   "metadata": {},
   "outputs": [],
   "source": [
    "data = pd.read_csv(\"Staphylococcus_aureus_Infection_Data.csv\")\n",
    "#predict 30 day death"
   ]
  },
  {
   "cell_type": "code",
   "execution_count": 3,
   "id": "6c24c036",
   "metadata": {},
   "outputs": [],
   "source": [
    "#Dropping blank data\n",
    "data = data.dropna()"
   ]
  },
  {
   "cell_type": "code",
   "execution_count": 4,
   "id": "827e055b",
   "metadata": {},
   "outputs": [],
   "source": [
    "#converting AGE_GRP column\n",
    "AGE_GRP = data.iloc[:,1]\n",
    "age_grp = []\n",
    "for i in AGE_GRP:\n",
    "    if i == \"00-10\":\n",
    "        age_grp.append(0)\n",
    "    elif i == \"11-20\":\n",
    "        age_grp.append(10)\n",
    "    elif i == \"21-30\":\n",
    "        age_grp.append(20)\n",
    "    elif i == \"31-40\":\n",
    "        age_grp.append(30)\n",
    "    elif i == \"41-50\":\n",
    "        age_grp.append(40)\n",
    "    elif i == \"51-60\":\n",
    "        age_grp.append(50)\n",
    "    elif i == \"61-70\":\n",
    "        age_grp.append(60)\n",
    "    elif i == \"71-80\":\n",
    "        age_grp.append(70)\n",
    "    else:\n",
    "        age_grp.append(80)\n",
    "        \n",
    "data.iloc[:,1] = age_grp"
   ]
  },
  {
   "cell_type": "code",
   "execution_count": 5,
   "id": "5f7b7b50",
   "metadata": {
    "scrolled": false
   },
   "outputs": [
    {
     "name": "stderr",
     "output_type": "stream",
     "text": [
      "C:\\Users\\miche\\anaconda3\\lib\\site-packages\\sklearn\\feature_selection\\_univariate_selection.py:112: UserWarning: Features [2093 2094] are constant.\n",
      "  warnings.warn(\"Features %s are constant.\" % constant_features_idx, UserWarning)\n",
      "C:\\Users\\miche\\anaconda3\\lib\\site-packages\\sklearn\\feature_selection\\_univariate_selection.py:113: RuntimeWarning: invalid value encountered in divide\n",
      "  f = msb / msw\n"
     ]
    }
   ],
   "source": [
    "x = data.drop([\"ThirtyDay_Death\", \"Unnamed: 0\", \"SixWeek_Death\", \"ThreeMo_Death\", \"SixMo_Death\", \"NineMo_Death\", \"OneYear_Death\"], axis=1)\n",
    "y = data[\"ThirtyDay_Death\"].astype(object).astype(int)\n",
    "\n",
    "#selecting the best 20 features\n",
    "from sklearn.feature_selection import SelectKBest, f_classif\n",
    "selector = SelectKBest(f_classif, k=20)\n",
    "x = selector.fit_transform(x, y) #new x with the best 20 features "
   ]
  },
  {
   "cell_type": "code",
   "execution_count": 6,
   "id": "3f1f66c6",
   "metadata": {},
   "outputs": [],
   "source": [
    "from sklearn.model_selection import train_test_split \n",
    "\n",
    "x_train, x_test, y_train, y_test = train_test_split(x, y, test_size=0.3, random_state=42)"
   ]
  },
  {
   "cell_type": "code",
   "execution_count": 7,
   "id": "b2a2e595",
   "metadata": {},
   "outputs": [],
   "source": [
    "from imblearn.over_sampling import RandomOverSampler\n",
    "\n",
    "# apply random oversampling to the minority class\n",
    "ros = RandomOverSampler(random_state=42)\n",
    "x_train_resampled, y_train_resampled = ros.fit_resample(x_train, y_train)"
   ]
  },
  {
   "cell_type": "code",
   "execution_count": 8,
   "id": "a157a4d2",
   "metadata": {},
   "outputs": [
    {
     "data": {
      "text/plain": [
       "BaggingClassifier(base_estimator=DecisionTreeClassifier(criterion='entropy',\n",
       "                                                        max_depth=6),\n",
       "                  max_samples=0.8, n_estimators=100, random_state=42)"
      ]
     },
     "execution_count": 8,
     "metadata": {},
     "output_type": "execute_result"
    }
   ],
   "source": [
    "from sklearn.ensemble import BaggingClassifier\n",
    "from sklearn.tree import DecisionTreeClassifier\n",
    "\n",
    "# Create a decision tree classifier\n",
    "model = DecisionTreeClassifier(criterion='entropy', max_depth=6) #max depth to prevent overfitting\n",
    "\n",
    "# Create a bagging classifier with decision tree as the base estimator\n",
    "bagged_tree = BaggingClassifier(base_estimator=model, n_estimators=100, max_samples=0.8, random_state=42)\n",
    "\n",
    "#fit model\n",
    "bagged_tree.fit(x_train_resampled, y_train_resampled)"
   ]
  },
  {
   "cell_type": "code",
   "execution_count": 9,
   "id": "0ca0d444",
   "metadata": {},
   "outputs": [],
   "source": [
    "#making a prediction\n",
    "y_pred_train = bagged_tree.predict(x_train)\n",
    "y_pred_test = bagged_tree.predict(x_test)\n"
   ]
  },
  {
   "cell_type": "code",
   "execution_count": 10,
   "id": "b0e8e13e",
   "metadata": {},
   "outputs": [
    {
     "name": "stdout",
     "output_type": "stream",
     "text": [
      "0.7488408037094282\n"
     ]
    },
    {
     "data": {
      "text/plain": [
       "<AxesSubplot:>"
      ]
     },
     "execution_count": 10,
     "metadata": {},
     "output_type": "execute_result"
    },
    {
     "data": {
      "image/png": "[encoded data removed]",
      "text/plain": [
       "<Figure size 640x480 with 2 Axes>"
      ]
     },
     "metadata": {},
     "output_type": "display_data"
    }
   ],
   "source": [
    "#Testing Accuracy of training data\n",
    "\n",
    "from sklearn.metrics import confusion_matrix\n",
    "from sklearn.metrics import accuracy_score\n",
    "\n",
    "cm = confusion_matrix(y_train, y_pred_train)\n",
    "\n",
    "print(accuracy_score(y_train, y_pred_train))\n",
    "\n",
    "sns.heatmap(cm, annot=True)"
   ]
  },
  {
   "cell_type": "code",
   "execution_count": 11,
   "id": "9ca1e9ca",
   "metadata": {},
   "outputs": [
    {
     "name": "stdout",
     "output_type": "stream",
     "text": [
      "0.6978978978978979\n"
     ]
    },
    {
     "data": {
      "text/plain": [
       "<AxesSubplot:>"
      ]
     },
     "execution_count": 11,
     "metadata": {},
     "output_type": "execute_result"
    },
    {
     "data": {
      "image/png": "[encoded data removed]",
      "text/plain": [
       "<Figure size 640x480 with 2 Axes>"
      ]
     },
     "metadata": {},
     "output_type": "display_data"
    }
   ],
   "source": [
    "#Testing Accuracy\n",
    "\n",
    "cm = confusion_matrix(y_test, y_pred_test)\n",
    "\n",
    "print(accuracy_score(y_test, y_pred_test))\n",
    "\n",
    "sns.heatmap(cm, annot=True)"
   ]
  },
  {
   "cell_type": "code",
   "execution_count": 12,
   "id": "e06e3ab2",
   "metadata": {},
   "outputs": [
    {
     "name": "stdout",
     "output_type": "stream",
     "text": [
      "              precision    recall  f1-score   support\n",
      "\n",
      "           0       0.91      0.70      0.79      1378\n",
      "           1       0.32      0.67      0.43       287\n",
      "\n",
      "    accuracy                           0.70      1665\n",
      "   macro avg       0.61      0.69      0.61      1665\n",
      "weighted avg       0.81      0.70      0.73      1665\n",
      "\n",
      "Sensitivity: 0.6655052264808362\n",
      "Specificity: 0.704644412191582\n"
     ]
    }
   ],
   "source": [
    "from sklearn.metrics import confusion_matrix, classification_report\n",
    "\n",
    "# Extract the true positives, true negatives, false positives, and false negatives\n",
    "tn, fp, fn, tp = cm.ravel()\n",
    "\n",
    "# Compute the sensitivity and specificity\n",
    "sensitivity = tp / (tp + fn)\n",
    "specificity = tn / (tn + fp)\n",
    "\n",
    "# Print the classification report\n",
    "print(classification_report(y_test, y_pred_test))\n",
    "\n",
    "# Print the sensitivity and specificity\n",
    "print(\"Sensitivity:\", sensitivity)\n",
    "print(\"Specificity:\", specificity)"
   ]
  }
 ],
 "metadata": {
  "kernelspec": {
   "display_name": "Python 3 (ipykernel)",
   "language": "python",
   "name": "python3"
  },
  "language_info": {
   "codemirror_mode": {
    "name": "ipython",
    "version": 3
   },
   "file_extension": ".py",
   "mimetype": "text/x-python",
   "name": "python",
   "nbconvert_exporter": "python",
   "pygments_lexer": "ipython3",
   "version": "3.9.13"
  }
 },
 "nbformat": 4,
 "nbformat_minor": 5
}
