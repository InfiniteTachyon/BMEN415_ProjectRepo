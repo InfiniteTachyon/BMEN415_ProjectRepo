{
 "cells": [
  {
   "cell_type": "code",
   "execution_count": 1,
   "id": "a987b4ca",
   "metadata": {},
   "outputs": [],
   "source": [
    "#Import libraries\n",
    "import pandas as pd\n",
    "import numpy as np\n",
    "from sklearn.linear_model import Lasso\n",
    "from sklearn.svm import SVR\n",
    "from sklearn.ensemble import RandomForestRegressor\n",
    "from sklearn.model_selection import train_test_split\n",
    "import matplotlib.pyplot as plt\n",
    "import seaborn as sns\n",
    "from sklearn.preprocessing import StandardScaler\n",
    "from imblearn.over_sampling import RandomOverSampler\n",
    "from sklearn.metrics import r2_score\n",
    "from sklearn.metrics import mean_squared_error as MSE\n",
    "from sklearn.model_selection import cross_val_score\n",
    "from math import sqrt"
   ]
  },
  {
   "cell_type": "code",
   "execution_count": 2,
   "id": "c00d6fda",
   "metadata": {},
   "outputs": [],
   "source": [
    "#Obtain data and modifying\n",
    "data = pd.read_csv('/Users/neveh/Desktop/Volumetric_features.csv')"
   ]
  },
  {
   "cell_type": "code",
   "execution_count": 3,
   "id": "31a89141",
   "metadata": {},
   "outputs": [],
   "source": [
    "#Split features and target\n",
    "X = data.drop('Age', axis=1)\n",
    "y = data['Age']"
   ]
  },
  {
   "cell_type": "code",
   "execution_count": 4,
   "id": "2addc8eb",
   "metadata": {},
   "outputs": [],
   "source": [
    "#Split the data into training and testing\n",
    "X_train, X_test, y_train, y_test = train_test_split(X, y, test_size = 0.3, random_state = 42)"
   ]
  },
  {
   "cell_type": "code",
   "execution_count": 5,
   "id": "cee609a8",
   "metadata": {},
   "outputs": [],
   "source": [
    "#scaling the data\n",
    "scaler = StandardScaler()\n",
    "X_train_scaled = scaler.fit_transform(X_train)\n",
    "X_test_scaled = scaler.fit_transform(X_test)"
   ]
  },
  {
   "cell_type": "markdown",
   "id": "b76ac4ed",
   "metadata": {},
   "source": [
    "MODEL #1"
   ]
  },
  {
   "cell_type": "code",
   "execution_count": 6,
   "id": "25d68126",
   "metadata": {},
   "outputs": [],
   "source": [
    "#alpha array\n",
    "alphas = np.linspace(0.01, 0.2, num=20)\n",
    "\n",
    "r2_test_pen = []\n",
    "r2_train_pen = []\n",
    "for alpha in alphas:\n",
    "    # Create Lasso model with alpha parameter\n",
    "    lasso = Lasso(alpha=alpha, max_iter=10000)\n",
    "\n",
    "    # Fit model on training data\n",
    "    lasso.fit(X_train_scaled, y_train)\n",
    "\n",
    "    # Predict on testing and training data\n",
    "    y_pred_test_pen = lasso.predict(X_test_scaled)\n",
    "    y_pred_train_pen = lasso.predict(X_train_scaled)\n",
    "\n",
    "    # Calculate R-squared score on testing and training data\n",
    "    r2_test_pen.append(r2_score(y_test, y_pred_test_pen))\n",
    "    r2_train_pen.append(r2_score(y_train, y_pred_train_pen))"
   ]
  },
  {
   "cell_type": "code",
   "execution_count": 7,
   "id": "456b3b53",
   "metadata": {},
   "outputs": [
    {
     "data": {
      "image/png": "[encoded data removed]",
      "text/plain": [
       "<Figure size 432x288 with 1 Axes>"
      ]
     },
     "metadata": {
      "needs_background": "light"
     },
     "output_type": "display_data"
    }
   ],
   "source": [
    "#plot to demonstrate accuracy and whether or not the model is underfitting or overfitting\n",
    "plt.plot(alphas, r2_test_pen, label='Test')\n",
    "plt.plot(alphas, r2_train_pen, label='Train')\n",
    "plt.xlabel('Alpha')\n",
    "plt.ylabel('R-squared')\n",
    "plt.title('Lasso Regression')\n",
    "plt.legend()\n",
    "plt.show()"
   ]
  },
  {
   "cell_type": "markdown",
   "id": "bfd46743",
   "metadata": {},
   "source": [
    "Based on the plot, the smaller alpha values the more accurate the model. However, the model starts to overfit. The optimal alpha value is at around 0.13"
   ]
  },
  {
   "cell_type": "code",
   "execution_count": 8,
   "id": "123b90ec",
   "metadata": {},
   "outputs": [
    {
     "name": "stdout",
     "output_type": "stream",
     "text": [
      "Testing R2 for an alpha of 0.13:  0.8441284468728628\n",
      "Testing MSE an alpha of 0.13: 0.10391427719386863\n",
      "Training R2 for an alpha of 0.13:  0.859826649603929\n",
      "Training MSE an alpha of 0.13: 0.09639333918810934\n"
     ]
    }
   ],
   "source": [
    "lasso = Lasso(alpha=0.01, max_iter=10000)\n",
    "lasso.fit(X_train_scaled, y_train)\n",
    "\n",
    "y_pred_test_pen = lasso.predict(X_test_scaled)\n",
    "y_pred_train_pen = lasso.predict(X_train_scaled)\n",
    "\n",
    "r2_test_pen = r2_score(y_test, y_pred_test_pen)\n",
    "r2_train_pen = r2_score(y_train, y_pred_train_pen)\n",
    "rmse_train_pen = np.sqrt(MSE(y_train,y_pred_train_pen))/(max(y_train)-min(y_train))\n",
    "rmse_test_pen = np.sqrt(MSE(y_test,y_pred_test_pen))/(max(y_test)-min(y_test))\n",
    "\n",
    "print(\"Testing R2 for an alpha of 0.13: \", r2_test_pen)\n",
    "print('Testing MSE an alpha of 0.13:', rmse_test_pen)\n",
    "print(\"Training R2 for an alpha of 0.13: \", r2_train_pen)\n",
    "print('Training MSE an alpha of 0.13:', rmse_train_pen)"
   ]
  },
  {
   "cell_type": "markdown",
   "id": "616b149e",
   "metadata": {},
   "source": [
    "MODEL #2"
   ]
  },
  {
   "cell_type": "code",
   "execution_count": 9,
   "id": "22fa8d0d",
   "metadata": {},
   "outputs": [],
   "source": [
    "svm = SVR(kernel='rbf')\n",
    "svm.fit(X_train_scaled, y_train)\n",
    "\n",
    "y_pred_test_svm = svm.predict(X_test_scaled)\n",
    "y_pred_train_svm = svm.predict(X_train_scaled)"
   ]
  },
  {
   "cell_type": "code",
   "execution_count": 10,
   "id": "b689e687",
   "metadata": {},
   "outputs": [
    {
     "name": "stdout",
     "output_type": "stream",
     "text": [
      "Testing R2: 0.8250760320613991\n",
      "Testing MSE: 0.11008203509694107\n",
      "Training R2: 0.8368690025017236\n",
      "Training MSE: 0.10398783681756892\n"
     ]
    }
   ],
   "source": [
    "r2_test_svm = r2_score(y_test, y_pred_test_svm)\n",
    "r2_train_svm = r2_score(y_train, y_pred_train_svm)\n",
    "rmse_train_svm = np.sqrt(MSE(y_train,y_pred_train_svm))/(max(y_train)-min(y_train))\n",
    "rmse_test_svm = np.sqrt(MSE(y_test,y_pred_test_svm))/(max(y_test)-min(y_test))\n",
    "\n",
    "print('Testing R2:', r2_test_svm)\n",
    "print('Testing MSE:', rmse_test_svm)\n",
    "print('Training R2:', r2_train_svm)\n",
    "print('Training MSE:', rmse_train_svm)"
   ]
  },
  {
   "cell_type": "markdown",
   "id": "939e9882",
   "metadata": {},
   "source": [
    "MODEL #3"
   ]
  },
  {
   "cell_type": "code",
   "execution_count": 11,
   "id": "10e191b8",
   "metadata": {},
   "outputs": [],
   "source": [
    "#max depth array\n",
    "max_depth = [1, 2, 3, 4, 5, 6, 7, 8, 9, 10]\n",
    "\n",
    "r2_test_rf = []\n",
    "r2_train_rf = []\n",
    "for n in max_depth:\n",
    "    rf =  RandomForestRegressor(random_state=142, max_depth = n)\n",
    "\n",
    "    #Fit model on training data\n",
    "    rf.fit(X_train, y_train)\n",
    "\n",
    "    #Predict on testing and training data\n",
    "    y_pred_test_rf = rf.predict(X_test)\n",
    "    y_pred_train_rf = rf.predict(X_train)\n",
    "\n",
    "    # Calculate R-squared score on testing and training data\n",
    "    r2_test_rf.append(r2_score(y_test, y_pred_test_rf))\n",
    "    r2_train_rf.append(r2_score(y_train, y_pred_train_rf))"
   ]
  },
  {
   "cell_type": "code",
   "execution_count": 12,
   "id": "d9cefdf8",
   "metadata": {},
   "outputs": [
    {
     "data": {
      "image/png": "[encoded data removed]",
      "text/plain": [
       "<Figure size 432x288 with 1 Axes>"
      ]
     },
     "metadata": {
      "needs_background": "light"
     },
     "output_type": "display_data"
    }
   ],
   "source": [
    "#plot to demonstrate accuracy and whether or not the model is underfitting or overfitting\n",
    "plt.plot(max_depth, r2_test_rf, label='Test')\n",
    "plt.plot(max_depth, r2_train_rf, label='Train')\n",
    "plt.xlabel('max depth')\n",
    "plt.ylabel('R-squared')\n",
    "plt.title('Random Forest Regression')\n",
    "plt.legend()\n",
    "plt.show()"
   ]
  },
  {
   "cell_type": "code",
   "execution_count": 13,
   "id": "8c46baba",
   "metadata": {},
   "outputs": [],
   "source": [
    "#max features array\n",
    "max_features = np.linspace(0.1, 1, num=10)\n",
    "\n",
    "r2_test_rf = []\n",
    "r2_train_rf = []\n",
    "for n in max_features:\n",
    "    rf =  RandomForestRegressor(random_state=142, max_features = n, max_depth = 4)\n",
    "\n",
    "    #Fit model on training data\n",
    "    rf.fit(X_train, y_train)\n",
    "\n",
    "    #Predict on testing and training data\n",
    "    y_pred_test_rf = rf.predict(X_test)\n",
    "    y_pred_train_rf = rf.predict(X_train)\n",
    "\n",
    "    # Calculate R-squared score on testing and training data\n",
    "    r2_test_rf.append(r2_score(y_test, y_pred_test_rf))\n",
    "    r2_train_rf.append(r2_score(y_train, y_pred_train_rf))"
   ]
  },
  {
   "cell_type": "code",
   "execution_count": 14,
   "id": "377668ef",
   "metadata": {},
   "outputs": [
    {
     "data": {
      "image/png": "[encoded data removed]",
      "text/plain": [
       "<Figure size 432x288 with 1 Axes>"
      ]
     },
     "metadata": {
      "needs_background": "light"
     },
     "output_type": "display_data"
    }
   ],
   "source": [
    "#plot to demonstrate accuracy and whether or not the model is underfitting or overfitting\n",
    "plt.plot(max_features, r2_test_rf, label='Test')\n",
    "plt.plot(max_features, r2_train_rf, label='Train')\n",
    "plt.xlabel('max features')\n",
    "plt.ylabel('R-squared')\n",
    "plt.title('Random Forest Regression')\n",
    "plt.legend()\n",
    "plt.show()"
   ]
  },
  {
   "cell_type": "code",
   "execution_count": 15,
   "id": "66997315",
   "metadata": {},
   "outputs": [],
   "source": [
    "rf =  RandomForestRegressor(random_state=142, max_features = 0.4, max_depth = 4)\n",
    "rf.fit(X_train, y_train)\n",
    "\n",
    "y_pred_test_rf = rf.predict(X_test)\n",
    "y_pred_train_rf = rf.predict(X_train)"
   ]
  },
  {
   "cell_type": "code",
   "execution_count": 16,
   "id": "d4c9fa13",
   "metadata": {},
   "outputs": [
    {
     "name": "stdout",
     "output_type": "stream",
     "text": [
      "Testing R2: 0.8273451483365252\n",
      "Testing MSE: 0.10936571158817632\n",
      "Training R2: 0.8362669662733029\n",
      "Training MSE: 0.10417954407071821\n"
     ]
    }
   ],
   "source": [
    "r2_test_rf = r2_score(y_test, y_pred_test_rf)\n",
    "r2_train_rf = r2_score(y_train, y_pred_train_rf)\n",
    "rmse_train_rf = np.sqrt(MSE(y_train,y_pred_train_rf))/(max(y_train)-min(y_train))\n",
    "rmse_test_rf = np.sqrt(MSE(y_test,y_pred_test_rf))/(max(y_test)-min(y_test))\n",
    "\n",
    "print('Testing R2:', r2_test_rf)\n",
    "print('Testing MSE:', rmse_test_rf)\n",
    "print('Training R2:', r2_train_rf)\n",
    "print('Training MSE:', rmse_train_rf)"
   ]
  },
  {
   "cell_type": "code",
   "execution_count": null,
   "id": "8601f6f3",
   "metadata": {},
   "outputs": [],
   "source": []
  }
 ],
 "metadata": {
  "kernelspec": {
   "display_name": "Python 3",
   "language": "python",
   "name": "python3"
  },
  "language_info": {
   "codemirror_mode": {
    "name": "ipython",
    "version": 3
   },
   "file_extension": ".py",
   "mimetype": "text/x-python",
   "name": "python",
   "nbconvert_exporter": "python",
   "pygments_lexer": "ipython3",
   "version": "3.8.8"
  }
 },
 "nbformat": 4,
 "nbformat_minor": 5
}
