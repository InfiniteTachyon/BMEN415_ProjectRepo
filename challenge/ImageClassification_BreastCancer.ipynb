{
 "cells": [
  {
   "cell_type": "code",
   "execution_count": 1,
   "id": "f499325d",
   "metadata": {
    "scrolled": true
   },
   "outputs": [],
   "source": [
    "import pandas as pd \n",
    "import numpy as np\n",
    "import matplotlib.pyplot as plt\n",
    "import seaborn as sns\n",
    "import tensorflow as tf\n",
    "import keras, os, glob, cv2\n",
    "from keras.utils import np_utils"
   ]
  },
  {
   "cell_type": "code",
   "execution_count": 2,
   "id": "93532503",
   "metadata": {},
   "outputs": [
    {
     "name": "stdout",
     "output_type": "stream",
     "text": [
      "                                  mask  type\n",
      "0           normal\\normal (1)_mask.png     0\n",
      "1          normal\\normal (10)_mask.png     0\n",
      "2         normal\\normal (100)_mask.png     0\n",
      "3         normal\\normal (101)_mask.png     0\n",
      "4         normal\\normal (102)_mask.png     0\n",
      "..                                 ...   ...\n",
      "793  malignant\\malignant (95)_mask.png     2\n",
      "794  malignant\\malignant (96)_mask.png     2\n",
      "795  malignant\\malignant (97)_mask.png     2\n",
      "796  malignant\\malignant (98)_mask.png     2\n",
      "797  malignant\\malignant (99)_mask.png     2\n",
      "\n",
      "[798 rows x 2 columns]\n"
     ]
    }
   ],
   "source": [
    "benign = 'benign'\n",
    "malignant= 'malignant'\n",
    "normal= 'normal'\n",
    "\n",
    "ben_cases = glob.glob(benign+ '/*')\n",
    "mal_cases =glob.glob(malignant+ '/*')\n",
    "normal_cases = glob.glob(normal+ '/*')\n",
    "\n",
    "#create arrays of image paths\n",
    "train_mask = []\n",
    "train_img=[]\n",
    "y=[]\n",
    "\n",
    "for img in normal_cases:\n",
    "    if img.endswith('_mask.png') or img.endswith('_mask_1.png') or img.endswith('_mask_2.png'):  \n",
    "        train_mask.append(img)\n",
    "        y.append(0) #0=normal\n",
    "    else:\n",
    "        train_img.append(img) \n",
    "\n",
    "for img in ben_cases:\n",
    "    if img.endswith('_mask.png') or img.endswith('_mask_1.png') or img.endswith('_mask_2.png'):\n",
    "        train_mask.append(img)\n",
    "        y.append(1)\n",
    "    else:\n",
    "        train_img.append(img)\n",
    "\n",
    "for img in mal_cases:\n",
    "    if img.endswith('_mask.png') or img.endswith('_mask_1.png') or img.endswith('_mask_2.png'):\n",
    "        train_mask.append(img)\n",
    "        y.append(2)\n",
    "    else:\n",
    "        train_img.append(img)\n",
    "        \n",
    "df=pd.DataFrame({'mask': train_mask, 'type': y})\n",
    "print(df)"
   ]
  },
  {
   "cell_type": "code",
   "execution_count": 3,
   "id": "69fcf80e",
   "metadata": {},
   "outputs": [
    {
     "name": "stdout",
     "output_type": "stream",
     "text": [
      "                                  mask  type\n",
      "8         normal\\normal (106)_mask.png     0\n",
      "509       benign\\benign (428)_mask.png     1\n",
      "175       benign\\benign (136)_mask.png     1\n",
      "366       benign\\benign (302)_mask.png     1\n",
      "242       benign\\benign (194)_mask.png     1\n",
      "..                                 ...   ...\n",
      "715  malignant\\malignant (25)_mask.png     2\n",
      "767  malignant\\malignant (71)_mask.png     2\n",
      "72         normal\\normal (44)_mask.png     0\n",
      "235       benign\\benign (188)_mask.png     1\n",
      "37        normal\\normal (132)_mask.png     0\n",
      "\n",
      "[798 rows x 2 columns]\n"
     ]
    }
   ],
   "source": [
    "import sklearn\n",
    "df_rand=sklearn.utils.shuffle(df, random_state=1)\n",
    "print(df_rand)"
   ]
  },
  {
   "cell_type": "code",
   "execution_count": 4,
   "id": "f5290e42",
   "metadata": {},
   "outputs": [
    {
     "name": "stdout",
     "output_type": "stream",
     "text": [
      "798\n"
     ]
    }
   ],
   "source": [
    "from sklearn.model_selection import train_test_split\n",
    "X=df_rand['mask']\n",
    "y=df_rand['type']\n",
    "#X_train,y_train,X_test,y_test=train_test_split(X,y,test_size=0.3,random_state=1)\n",
    "\n",
    "print(len(X))"
   ]
  },
  {
   "cell_type": "code",
   "execution_count": 5,
   "id": "ac4046cb",
   "metadata": {},
   "outputs": [
    {
     "name": "stdout",
     "output_type": "stream",
     "text": [
      "5\n",
      "[1 2 3]\n",
      "[4 5]\n"
     ]
    }
   ],
   "source": [
    "arr = np.array([1, 2, 3, 4, 5])\n",
    "arr1 = arr[:-2]\n",
    "arr3 = arr[-2:]\n",
    "print(len(arr))\n",
    "print(arr1)\n",
    "print(arr3)"
   ]
  },
  {
   "cell_type": "code",
   "execution_count": 6,
   "id": "2b770963",
   "metadata": {},
   "outputs": [
    {
     "name": "stdout",
     "output_type": "stream",
     "text": [
      "558\n",
      "240\n",
      "558\n",
      "240\n"
     ]
    }
   ],
   "source": [
    "X_train=X[:-240]\n",
    "X_test=X[-240:]\n",
    "y_train=y[:-240]\n",
    "y_test=y[-240:]\n",
    "print(len(X_train))\n",
    "print(len(X_test))\n",
    "print(len(y_train))\n",
    "print(len(y_test))"
   ]
  },
  {
   "cell_type": "code",
   "execution_count": 7,
   "id": "b7a5d2c1",
   "metadata": {},
   "outputs": [
    {
     "name": "stdout",
     "output_type": "stream",
     "text": [
      "(558,)\n"
     ]
    }
   ],
   "source": [
    "print(np.shape(X_train))"
   ]
  },
  {
   "cell_type": "code",
   "execution_count": 8,
   "id": "d7695022",
   "metadata": {},
   "outputs": [
    {
     "name": "stdout",
     "output_type": "stream",
     "text": [
      "(558, 256, 256)\n",
      "(240, 256, 256)\n"
     ]
    }
   ],
   "source": [
    "X_train_masks=[]\n",
    "X_test_masks=[]\n",
    "size_x = 256\n",
    "size_y = 256\n",
    "\n",
    "for every_img_path in X_train:\n",
    "    img=cv2.imread(every_img_path,cv2.IMREAD_GRAYSCALE)\n",
    "    img=cv2.resize(img,(size_y, size_x))\n",
    "    X_train_masks.append(img)\n",
    "    \n",
    "for every_img_path in X_test:\n",
    "    img=cv2.imread(every_img_path,cv2.IMREAD_GRAYSCALE)\n",
    "    img=cv2.resize(img,(size_y, size_x))\n",
    "    X_test_masks.append(img)\n",
    "    \n",
    "X_train_masks=np.array(X_train_masks)\n",
    "X_test_masks=np.array(X_test_masks)\n",
    "\n",
    "print(np.shape(X_train_masks))\n",
    "print(np.shape(X_test_masks))"
   ]
  },
  {
   "cell_type": "code",
   "execution_count": 9,
   "id": "c3830f66",
   "metadata": {},
   "outputs": [
    {
     "name": "stdout",
     "output_type": "stream",
     "text": [
      "65536\n"
     ]
    }
   ],
   "source": [
    "X_train_masks= X_train_masks.reshape(X_train_masks.shape[0], \n",
    "                          X_train_masks.shape[1]* X_train_masks.shape[2])\n",
    "X_test_masks = X_test_masks.reshape(X_test_masks.shape[0], \n",
    "                          X_test_masks.shape[1]* X_test_masks.shape[2])\n",
    "\n",
    "print(X_train_masks.shape[1])\n",
    "X_train_masks=X_train_masks/255\n",
    "X_test_masks=X_test_masks/255"
   ]
  },
  {
   "cell_type": "code",
   "execution_count": 32,
   "id": "d25d4b80",
   "metadata": {},
   "outputs": [
    {
     "name": "stdout",
     "output_type": "stream",
     "text": [
      "Model: \"sequential_2\"\n",
      "_________________________________________________________________\n",
      " Layer (type)                Output Shape              Param #   \n",
      "=================================================================\n",
      " dense_55 (Dense)            (None, 200)               13107400  \n",
      "                                                                 \n",
      " activation_55 (Activation)  (None, 200)               0         \n",
      "                                                                 \n",
      " dense_56 (Dense)            (None, 50)                10050     \n",
      "                                                                 \n",
      " activation_56 (Activation)  (None, 50)                0         \n",
      "                                                                 \n",
      " dense_57 (Dense)            (None, 3)                 153       \n",
      "                                                                 \n",
      " activation_57 (Activation)  (None, 3)                 0         \n",
      "                                                                 \n",
      "=================================================================\n",
      "Total params: 13,117,603\n",
      "Trainable params: 13,117,603\n",
      "Non-trainable params: 0\n",
      "_________________________________________________________________\n"
     ]
    }
   ],
   "source": [
    "#neural net\n",
    "from keras.layers import Activation, Dense\n",
    "from keras.models import Sequential \n",
    "model = Sequential()\n",
    "#input\n",
    "model.add(Dense(200, input_dim=65536))\n",
    "model.add(Activation('relu'))\n",
    "#hidden layers\n",
    "#num_hl = 50\n",
    "#for i in range(num_hl):\n",
    "model.add(Dense(50, input_dim=200))\n",
    "model.add(Activation('relu'))\n",
    "#output\n",
    "model.add(Dense(3, input_dim=50))\n",
    "model.add(Activation('softmax'))\n",
    "\n",
    "model.summary()"
   ]
  },
  {
   "cell_type": "code",
   "execution_count": 33,
   "id": "ea4699a3",
   "metadata": {},
   "outputs": [
    {
     "name": "stdout",
     "output_type": "stream",
     "text": [
      "Epoch 1/50\n",
      "6/6 [==============================] - 1s 88ms/step - loss: 1.0082 - accuracy: 0.6129 - val_loss: 1.0139 - val_accuracy: 0.6000\n",
      "Epoch 2/50\n",
      "6/6 [==============================] - 0s 62ms/step - loss: 1.0058 - accuracy: 0.5914 - val_loss: 1.0132 - val_accuracy: 0.5542\n",
      "Epoch 3/50\n",
      "6/6 [==============================] - 0s 75ms/step - loss: 1.0053 - accuracy: 0.5753 - val_loss: 1.0130 - val_accuracy: 0.5417\n",
      "Epoch 4/50\n",
      "6/6 [==============================] - 0s 63ms/step - loss: 1.0051 - accuracy: 0.5520 - val_loss: 1.0129 - val_accuracy: 0.5417\n",
      "Epoch 5/50\n",
      "6/6 [==============================] - 0s 63ms/step - loss: 1.0049 - accuracy: 0.5609 - val_loss: 1.0127 - val_accuracy: 0.5333\n",
      "Epoch 6/50\n",
      "6/6 [==============================] - 0s 70ms/step - loss: 1.0048 - accuracy: 0.5484 - val_loss: 1.0127 - val_accuracy: 0.5083\n",
      "Epoch 7/50\n",
      "6/6 [==============================] - 0s 62ms/step - loss: 1.0047 - accuracy: 0.5323 - val_loss: 1.0126 - val_accuracy: 0.5083\n",
      "Epoch 8/50\n",
      "6/6 [==============================] - 0s 74ms/step - loss: 1.0046 - accuracy: 0.5394 - val_loss: 1.0125 - val_accuracy: 0.5042\n",
      "Epoch 9/50\n",
      "6/6 [==============================] - 0s 61ms/step - loss: 1.0045 - accuracy: 0.5358 - val_loss: 1.0125 - val_accuracy: 0.5042\n",
      "Epoch 10/50\n",
      "6/6 [==============================] - 0s 62ms/step - loss: 1.0044 - accuracy: 0.5233 - val_loss: 1.0125 - val_accuracy: 0.5042\n",
      "Epoch 11/50\n",
      "6/6 [==============================] - 0s 71ms/step - loss: 1.0044 - accuracy: 0.5251 - val_loss: 1.0124 - val_accuracy: 0.4958\n",
      "Epoch 12/50\n",
      "6/6 [==============================] - 0s 61ms/step - loss: 1.0043 - accuracy: 0.5215 - val_loss: 1.0124 - val_accuracy: 0.4917\n",
      "Epoch 13/50\n",
      "6/6 [==============================] - 0s 62ms/step - loss: 1.0043 - accuracy: 0.5179 - val_loss: 1.0124 - val_accuracy: 0.4625\n",
      "Epoch 14/50\n",
      "6/6 [==============================] - 0s 64ms/step - loss: 1.0043 - accuracy: 0.5090 - val_loss: 1.0123 - val_accuracy: 0.4750\n",
      "Epoch 15/50\n",
      "6/6 [==============================] - 0s 61ms/step - loss: 1.0042 - accuracy: 0.5125 - val_loss: 1.0123 - val_accuracy: 0.4583\n",
      "Epoch 16/50\n",
      "6/6 [==============================] - 0s 72ms/step - loss: 1.0042 - accuracy: 0.5215 - val_loss: 1.0123 - val_accuracy: 0.4792\n",
      "Epoch 17/50\n",
      "6/6 [==============================] - 0s 63ms/step - loss: 1.0042 - accuracy: 0.5215 - val_loss: 1.0123 - val_accuracy: 0.4792\n",
      "Epoch 18/50\n",
      "6/6 [==============================] - 0s 67ms/step - loss: 1.0041 - accuracy: 0.5233 - val_loss: 1.0123 - val_accuracy: 0.4667\n",
      "Epoch 19/50\n",
      "6/6 [==============================] - 0s 70ms/step - loss: 1.0041 - accuracy: 0.5179 - val_loss: 1.0123 - val_accuracy: 0.4500\n",
      "Epoch 20/50\n",
      "6/6 [==============================] - 0s 64ms/step - loss: 1.0041 - accuracy: 0.5090 - val_loss: 1.0123 - val_accuracy: 0.4667\n",
      "Epoch 21/50\n",
      "6/6 [==============================] - 0s 68ms/step - loss: 1.0041 - accuracy: 0.5161 - val_loss: 1.0122 - val_accuracy: 0.4833\n",
      "Epoch 22/50\n",
      "6/6 [==============================] - 0s 61ms/step - loss: 1.0041 - accuracy: 0.5125 - val_loss: 1.0122 - val_accuracy: 0.4500\n",
      "Epoch 23/50\n",
      "6/6 [==============================] - 0s 62ms/step - loss: 1.0040 - accuracy: 0.5161 - val_loss: 1.0122 - val_accuracy: 0.4708\n",
      "Epoch 24/50\n",
      "6/6 [==============================] - 0s 70ms/step - loss: 1.0040 - accuracy: 0.5233 - val_loss: 1.0122 - val_accuracy: 0.4583\n",
      "Epoch 25/50\n",
      "6/6 [==============================] - 0s 61ms/step - loss: 1.0040 - accuracy: 0.5143 - val_loss: 1.0122 - val_accuracy: 0.4708\n",
      "Epoch 26/50\n",
      "6/6 [==============================] - 0s 62ms/step - loss: 1.0040 - accuracy: 0.5179 - val_loss: 1.0122 - val_accuracy: 0.4667\n",
      "Epoch 27/50\n",
      "6/6 [==============================] - 0s 70ms/step - loss: 1.0040 - accuracy: 0.5108 - val_loss: 1.0122 - val_accuracy: 0.4667\n",
      "Epoch 28/50\n",
      "6/6 [==============================] - 0s 62ms/step - loss: 1.0040 - accuracy: 0.5072 - val_loss: 1.0122 - val_accuracy: 0.4667\n",
      "Epoch 29/50\n",
      "6/6 [==============================] - 0s 76ms/step - loss: 1.0040 - accuracy: 0.5108 - val_loss: 1.0122 - val_accuracy: 0.4542\n",
      "Epoch 30/50\n",
      "6/6 [==============================] - 0s 66ms/step - loss: 1.0039 - accuracy: 0.5072 - val_loss: 1.0122 - val_accuracy: 0.4542\n",
      "Epoch 31/50\n",
      "6/6 [==============================] - 0s 63ms/step - loss: 1.0039 - accuracy: 0.5054 - val_loss: 1.0122 - val_accuracy: 0.4625\n",
      "Epoch 32/50\n",
      "6/6 [==============================] - 0s 72ms/step - loss: 1.0039 - accuracy: 0.5072 - val_loss: 1.0121 - val_accuracy: 0.4625\n",
      "Epoch 33/50\n",
      "6/6 [==============================] - 0s 64ms/step - loss: 1.0039 - accuracy: 0.5108 - val_loss: 1.0121 - val_accuracy: 0.4583\n",
      "Epoch 34/50\n",
      "6/6 [==============================] - 0s 71ms/step - loss: 1.0039 - accuracy: 0.5090 - val_loss: 1.0121 - val_accuracy: 0.4583\n",
      "Epoch 35/50\n",
      "6/6 [==============================] - 0s 62ms/step - loss: 1.0039 - accuracy: 0.5054 - val_loss: 1.0121 - val_accuracy: 0.4625\n",
      "Epoch 36/50\n",
      "6/6 [==============================] - 0s 62ms/step - loss: 1.0039 - accuracy: 0.5036 - val_loss: 1.0121 - val_accuracy: 0.4583\n",
      "Epoch 37/50\n",
      "6/6 [==============================] - 0s 70ms/step - loss: 1.0039 - accuracy: 0.5036 - val_loss: 1.0121 - val_accuracy: 0.4583\n",
      "Epoch 38/50\n",
      "6/6 [==============================] - 0s 62ms/step - loss: 1.0039 - accuracy: 0.5036 - val_loss: 1.0121 - val_accuracy: 0.4583\n",
      "Epoch 39/50\n",
      "6/6 [==============================] - 0s 63ms/step - loss: 1.0039 - accuracy: 0.5018 - val_loss: 1.0121 - val_accuracy: 0.4583\n",
      "Epoch 40/50\n",
      "6/6 [==============================] - 0s 78ms/step - loss: 1.0039 - accuracy: 0.5125 - val_loss: 1.0121 - val_accuracy: 0.4583\n",
      "Epoch 41/50\n",
      "6/6 [==============================] - 0s 61ms/step - loss: 1.0039 - accuracy: 0.4982 - val_loss: 1.0121 - val_accuracy: 0.4583\n",
      "Epoch 42/50\n",
      "6/6 [==============================] - 0s 70ms/step - loss: 1.0038 - accuracy: 0.5000 - val_loss: 1.0121 - val_accuracy: 0.4583\n",
      "Epoch 43/50\n",
      "6/6 [==============================] - 0s 63ms/step - loss: 1.0038 - accuracy: 0.5036 - val_loss: 1.0121 - val_accuracy: 0.4583\n",
      "Epoch 44/50\n",
      "6/6 [==============================] - 0s 63ms/step - loss: 1.0038 - accuracy: 0.4964 - val_loss: 1.0121 - val_accuracy: 0.4583\n",
      "Epoch 45/50\n",
      "6/6 [==============================] - 0s 72ms/step - loss: 1.0038 - accuracy: 0.4964 - val_loss: 1.0121 - val_accuracy: 0.4583\n",
      "Epoch 46/50\n",
      "6/6 [==============================] - 0s 62ms/step - loss: 1.0038 - accuracy: 0.5018 - val_loss: 1.0121 - val_accuracy: 0.4542\n",
      "Epoch 47/50\n",
      "6/6 [==============================] - 0s 66ms/step - loss: 1.0038 - accuracy: 0.5036 - val_loss: 1.0121 - val_accuracy: 0.4625\n",
      "Epoch 48/50\n",
      "6/6 [==============================] - 0s 61ms/step - loss: 1.0038 - accuracy: 0.5000 - val_loss: 1.0121 - val_accuracy: 0.4625\n",
      "Epoch 49/50\n",
      "6/6 [==============================] - 0s 65ms/step - loss: 1.0038 - accuracy: 0.4964 - val_loss: 1.0121 - val_accuracy: 0.4583\n",
      "Epoch 50/50\n",
      "6/6 [==============================] - 0s 69ms/step - loss: 1.0038 - accuracy: 0.5000 - val_loss: 1.0121 - val_accuracy: 0.4625\n"
     ]
    },
    {
     "data": {
      "text/plain": [
       "<keras.callbacks.History at 0x23fd66a4880>"
      ]
     },
     "execution_count": 33,
     "metadata": {},
     "output_type": "execute_result"
    }
   ],
   "source": [
    "model.compile(optimizer='sgd', loss='mse',metrics=['accuracy'])\n",
    "\n",
    "model.fit(X_train_masks, y_train, batch_size=100, epochs=50, verbose=1, validation_data=(X_test_masks,y_test))"
   ]
  },
  {
   "cell_type": "code",
   "execution_count": 34,
   "id": "93222bc8",
   "metadata": {},
   "outputs": [
    {
     "name": "stdout",
     "output_type": "stream",
     "text": [
      "test loss 1.0120724439620972\n",
      "test accuracy 0.4625000059604645\n"
     ]
    }
   ],
   "source": [
    "#performance scores and confusion matrix\n",
    "performance = model.evaluate(X_test_masks, y_test, verbose=0)\n",
    "\n",
    "print(\"test loss\", performance[0]) \n",
    "print(\"test accuracy\", performance[1])"
   ]
  }
 ],
 "metadata": {
  "kernelspec": {
   "display_name": "Python 3",
   "language": "python",
   "name": "python3"
  },
  "language_info": {
   "codemirror_mode": {
    "name": "ipython",
    "version": 3
   },
   "file_extension": ".py",
   "mimetype": "text/x-python",
   "name": "python",
   "nbconvert_exporter": "python",
   "pygments_lexer": "ipython3",
   "version": "3.8.8"
  }
 },
 "nbformat": 4,
 "nbformat_minor": 5
}
